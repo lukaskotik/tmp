{
  "cells": [
    {
      "cell_type": "markdown",
      "metadata": {
        "id": "view-in-github",
        "colab_type": "text"
      },
      "source": [
        "<a href=\"https://colab.research.google.com/github/lukaskotik/tmp/blob/main/quickstart_tutorial.ipynb\" target=\"_parent\"><img src=\"https://colab.research.google.com/assets/colab-badge.svg\" alt=\"Open In Colab\"/></a>"
      ]
    },
    {
      "cell_type": "code",
      "execution_count": 1,
      "metadata": {
        "id": "Xe0PUZw6Ywow"
      },
      "outputs": [],
      "source": [
        "# For tips on running notebooks in Google Colab, see\n",
        "# https://pytorch.org/tutorials/beginner/colab\n",
        "%matplotlib inline"
      ]
    },
    {
      "cell_type": "markdown",
      "metadata": {
        "id": "XLyhXCwVYwow"
      },
      "source": [
        "[Learn the Basics](intro.html) \\|\\| **Quickstart** \\|\\|\n",
        "[Tensors](tensorqs_tutorial.html) \\|\\| [Datasets &\n",
        "DataLoaders](data_tutorial.html) \\|\\|\n",
        "[Transforms](transforms_tutorial.html) \\|\\| [Build\n",
        "Model](buildmodel_tutorial.html) \\|\\|\n",
        "[Autograd](autogradqs_tutorial.html) \\|\\|\n",
        "[Optimization](optimization_tutorial.html) \\|\\| [Save & Load\n",
        "Model](saveloadrun_tutorial.html)\n",
        "\n",
        "Quickstart\n",
        "==========\n",
        "\n",
        "This section runs through the API for common tasks in machine learning.\n",
        "Refer to the links in each section to dive deeper.\n",
        "\n",
        "Working with data\n",
        "-----------------\n",
        "\n",
        "PyTorch has two [primitives to work with\n",
        "data](https://pytorch.org/docs/stable/data.html):\n",
        "`torch.utils.data.DataLoader` and `torch.utils.data.Dataset`. `Dataset`\n",
        "stores the samples and their corresponding labels, and `DataLoader`\n",
        "wraps an iterable around the `Dataset`.\n"
      ]
    },
    {
      "cell_type": "code",
      "execution_count": 4,
      "metadata": {
        "id": "4JG36ILVYwox"
      },
      "outputs": [],
      "source": [
        "import torch\n",
        "from torch import nn\n",
        "from torch.utils.data import DataLoader\n",
        "from torchvision import datasets\n",
        "from torchvision.transforms import ToTensor\n",
        "\n",
        "import matplotlib.pyplot as plt"
      ]
    },
    {
      "cell_type": "markdown",
      "metadata": {
        "id": "YSc0uMseYwox"
      },
      "source": [
        "PyTorch offers domain-specific libraries such as\n",
        "[TorchText](https://pytorch.org/text/stable/index.html),\n",
        "[TorchVision](https://pytorch.org/vision/stable/index.html), and\n",
        "[TorchAudio](https://pytorch.org/audio/stable/index.html), all of which\n",
        "include datasets. For this tutorial, we will be using a TorchVision\n",
        "dataset.\n",
        "\n",
        "The `torchvision.datasets` module contains `Dataset` objects for many\n",
        "real-world vision data like CIFAR, COCO ([full list\n",
        "here](https://pytorch.org/vision/stable/datasets.html)). In this\n",
        "tutorial, we use the FashionMNIST dataset. Every TorchVision `Dataset`\n",
        "includes two arguments: `transform` and `target_transform` to modify the\n",
        "samples and labels respectively.\n"
      ]
    },
    {
      "cell_type": "code",
      "execution_count": 5,
      "metadata": {
        "colab": {
          "base_uri": "https://localhost:8080/"
        },
        "id": "4ATplFiKYwox",
        "outputId": "cc355575-a0f4-42b1-fc69-2c3b9ff5ea92"
      },
      "outputs": [
        {
          "output_type": "stream",
          "name": "stderr",
          "text": [
            "100%|██████████| 26.4M/26.4M [00:01<00:00, 18.6MB/s]\n",
            "100%|██████████| 29.5k/29.5k [00:00<00:00, 306kB/s]\n",
            "100%|██████████| 4.42M/4.42M [00:00<00:00, 5.64MB/s]\n",
            "100%|██████████| 5.15k/5.15k [00:00<00:00, 7.99MB/s]"
          ]
        },
        {
          "output_type": "stream",
          "name": "stdout",
          "text": [
            "training data: <class 'torchvision.datasets.mnist.FashionMNIST'>\n",
            "Training data size: 60000\n",
            "Training data dimensions: torch.Size([1, 28, 28])\n",
            "test data: <class 'torchvision.datasets.mnist.FashionMNIST'>\n",
            "Test data size: 10000\n",
            "Test data dimensions: torch.Size([1, 28, 28])\n"
          ]
        },
        {
          "output_type": "stream",
          "name": "stderr",
          "text": [
            "\n"
          ]
        }
      ],
      "source": [
        "# Download training data from open datasets.\n",
        "training_data = datasets.FashionMNIST(\n",
        "    root=\"data\",\n",
        "    train=True,\n",
        "    download=True,\n",
        "    transform=ToTensor(),\n",
        ")\n",
        "\n",
        "# Download test data from open datasets.\n",
        "test_data = datasets.FashionMNIST(\n",
        "    root=\"data\",\n",
        "    train=False,\n",
        "    download=True,\n",
        "    transform=ToTensor(),\n",
        ")\n",
        "\n",
        "# Print training data dimensions\n",
        "print(f\"training data: {type(training_data)}\")\n",
        "print(f\"Training data size: {len(training_data)}\")\n",
        "print(f\"Training data dimensions: {training_data[0][0].shape}\")  # Accessing the shape of the first image\n",
        "\n",
        "# Print test data dimensions\n",
        "print(f\"test data: {type(test_data)}\")\n",
        "print(f\"Test data size: {len(test_data)}\")\n",
        "print(f\"Test data dimensions: {test_data[0][0].shape}\")  # Accessing the shape of the first image"
      ]
    },
    {
      "cell_type": "markdown",
      "metadata": {
        "id": "Bcs6DtmsYwoy"
      },
      "source": [
        "We pass the `Dataset` as an argument to `DataLoader`. This wraps an\n",
        "iterable over our dataset, and supports automatic batching, sampling,\n",
        "shuffling and multiprocess data loading. Here we define a batch size of\n",
        "64, i.e. each element in the dataloader iterable will return a batch of\n",
        "64 features and labels.\n"
      ]
    },
    {
      "cell_type": "code",
      "execution_count": 6,
      "metadata": {
        "colab": {
          "base_uri": "https://localhost:8080/"
        },
        "id": "PXRKUHI9Ywoy",
        "outputId": "a031c1d3-def1-4580-d744-e100bb754c20"
      },
      "outputs": [
        {
          "output_type": "stream",
          "name": "stdout",
          "text": [
            "Shape of X [N, C, H, W]: torch.Size([64, 1, 28, 28])\n",
            "Shape of y: torch.Size([64]) torch.int64\n"
          ]
        }
      ],
      "source": [
        "batch_size = 64\n",
        "\n",
        "# Create data loaders.\n",
        "train_dataloader = DataLoader(training_data, batch_size=batch_size)\n",
        "test_dataloader = DataLoader(test_data, batch_size=batch_size)\n",
        "\n",
        "for X, y in test_dataloader:\n",
        "    print(f\"Shape of X [N, C, H, W]: {X.shape}\")\n",
        "    print(f\"Shape of y: {y.shape} {y.dtype}\")\n",
        "    break\n",
        "\n"
      ]
    },
    {
      "source": [
        "# Get a batch of data\n",
        "for X, y in test_dataloader:\n",
        "    break  # Get the first batch and exit loop\n",
        "\n",
        "\n",
        "# Plot 9 images\n",
        "plt.figure(figsize=(10, 10))  # Adjust figure size as needed\n",
        "for i in range(9):\n",
        "    plt.subplot(3, 3, i + 1)  # Create subplots in a 3x3 grid\n",
        "    image = X[i]\n",
        "    image_np = image.numpy()\n",
        "    image_np = image_np.reshape(image_np.shape[1], image_np.shape[2])\n",
        "    plt.imshow(image_np, cmap='gray')\n",
        "    plt.title(f\"Label: {y[i]}\")\n",
        "    plt.axis('off')\n",
        "\n",
        "plt.show()"
      ],
      "cell_type": "code",
      "metadata": {
        "colab": {
          "base_uri": "https://localhost:8080/",
          "height": 829
        },
        "id": "1mSD9C79ccrv",
        "outputId": "5f9ab645-f07d-44e7-d83e-a7a6b34524c4"
      },
      "execution_count": 7,
      "outputs": [
        {
          "output_type": "display_data",
          "data": {
            "text/plain": [
              "<Figure size 1000x1000 with 9 Axes>"
            ],
            "image/png": "[encoded data removed]"
          },
          "metadata": {}
        }
      ]
    },
    {
      "cell_type": "markdown",
      "metadata": {
        "id": "tec50lWnYwoy"
      },
      "source": [
        "Read more about [loading data in PyTorch](data_tutorial.html).\n"
      ]
    },
    {
      "cell_type": "markdown",
      "metadata": {
        "id": "ZR1y8nCVYwoy"
      },
      "source": [
        "------------------------------------------------------------------------\n"
      ]
    },
    {
      "cell_type": "markdown",
      "metadata": {
        "id": "12fd7eTbYwoz"
      },
      "source": [
        "Creating Models\n",
        "===============\n",
        "\n",
        "To define a neural network in PyTorch, we create a class that inherits\n",
        "from\n",
        "[nn.Module](https://pytorch.org/docs/stable/generated/torch.nn.Module.html).\n",
        "We define the layers of the network in the `__init__` function and\n",
        "specify how data will pass through the network in the `forward`\n",
        "function. To accelerate operations in the neural network, we move it to\n",
        "the\n",
        "[accelerator](https://pytorch.org/docs/stable/torch.html#accelerators)\n",
        "such as CUDA, MPS, MTIA, or XPU. If the current accelerator is\n",
        "available, we will use it. Otherwise, we use the CPU.\n"
      ]
    },
    {
      "cell_type": "code",
      "execution_count": 8,
      "metadata": {
        "colab": {
          "base_uri": "https://localhost:8080/"
        },
        "id": "AzSBUBi6Ywoz",
        "outputId": "7e836bb3-5c88-4ad7-9c11-7455e2cceee7"
      },
      "outputs": [
        {
          "output_type": "stream",
          "name": "stdout",
          "text": [
            "Using cpu device\n",
            "NeuralNetwork(\n",
            "  (flatten): Flatten(start_dim=1, end_dim=-1)\n",
            "  (linear_relu_stack): Sequential(\n",
            "    (0): Linear(in_features=784, out_features=512, bias=True)\n",
            "    (1): ReLU()\n",
            "    (2): Linear(in_features=512, out_features=512, bias=True)\n",
            "    (3): ReLU()\n",
            "    (4): Linear(in_features=512, out_features=10, bias=True)\n",
            "  )\n",
            ")\n"
          ]
        }
      ],
      "source": [
        "device = torch.accelerator.current_accelerator().type if torch.accelerator.is_available() else \"cpu\"\n",
        "print(f\"Using {device} device\")\n",
        "\n",
        "# Define model\n",
        "class NeuralNetwork(nn.Module):\n",
        "    def __init__(self):\n",
        "        super().__init__()\n",
        "        self.flatten = nn.Flatten()\n",
        "        self.linear_relu_stack = nn.Sequential(\n",
        "            nn.Linear(28*28, 512),\n",
        "            nn.ReLU(),\n",
        "            nn.Linear(512, 512),\n",
        "            nn.ReLU(),\n",
        "            nn.Linear(512, 10)\n",
        "        )\n",
        "\n",
        "    def forward(self, x):\n",
        "        x = self.flatten(x)\n",
        "        logits = self.linear_relu_stack(x)\n",
        "        return logits\n",
        "\n",
        "model = NeuralNetwork().to(device)\n",
        "print(model)"
      ]
    },
    {
      "cell_type": "markdown",
      "metadata": {
        "id": "BEs7O4QlYwoz"
      },
      "source": [
        "Read more about [building neural networks in\n",
        "PyTorch](buildmodel_tutorial.html).\n"
      ]
    },
    {
      "cell_type": "markdown",
      "metadata": {
        "id": "T9A3s6j6Ywoz"
      },
      "source": [
        "------------------------------------------------------------------------\n"
      ]
    },
    {
      "cell_type": "markdown",
      "metadata": {
        "id": "8oZHxpG9Ywoz"
      },
      "source": [
        "Optimizing the Model Parameters\n",
        "===============================\n",
        "\n",
        "To train a model, we need a [loss\n",
        "function](https://pytorch.org/docs/stable/nn.html#loss-functions) and an\n",
        "[optimizer](https://pytorch.org/docs/stable/optim.html).\n"
      ]
    },
    {
      "cell_type": "code",
      "execution_count": 9,
      "metadata": {
        "id": "kVvumYCIYwoz"
      },
      "outputs": [],
      "source": [
        "loss_fn = nn.CrossEntropyLoss()\n",
        "optimizer = torch.optim.SGD(model.parameters(), lr=1e-3)"
      ]
    },
    {
      "cell_type": "markdown",
      "metadata": {
        "id": "a2-Bhp9aYwoz"
      },
      "source": [
        "In a single training loop, the model makes predictions on the training\n",
        "dataset (fed to it in batches), and backpropagates the prediction error\n",
        "to adjust the model\\'s parameters.\n"
      ]
    },
    {
      "cell_type": "code",
      "execution_count": 10,
      "metadata": {
        "id": "DoKlTrcaYwoz"
      },
      "outputs": [],
      "source": [
        "def train(dataloader, model, loss_fn, optimizer):\n",
        "    size = len(dataloader.dataset)\n",
        "    model.train()\n",
        "    for batch, (X, y) in enumerate(dataloader):\n",
        "        X, y = X.to(device), y.to(device)\n",
        "\n",
        "        # Compute prediction error\n",
        "        pred = model(X)\n",
        "        loss = loss_fn(pred, y)\n",
        "\n",
        "        # Backpropagation\n",
        "        loss.backward()\n",
        "        optimizer.step()\n",
        "        optimizer.zero_grad()\n",
        "\n",
        "        if batch % 100 == 0:\n",
        "            loss, current = loss.item(), (batch + 1) * len(X)\n",
        "            print(f\"loss: {loss:>7f}  [{current:>5d}/{size:>5d}]\")"
      ]
    },
    {
      "cell_type": "markdown",
      "metadata": {
        "id": "AbJuZdLTYwo0"
      },
      "source": [
        "We also check the model\\'s performance against the test dataset to\n",
        "ensure it is learning.\n"
      ]
    },
    {
      "cell_type": "code",
      "execution_count": 11,
      "metadata": {
        "id": "Mi_xoe_MYwo0"
      },
      "outputs": [],
      "source": [
        "def test(dataloader, model, loss_fn):\n",
        "    size = len(dataloader.dataset)\n",
        "    num_batches = len(dataloader)\n",
        "    model.eval()\n",
        "    test_loss, correct = 0, 0\n",
        "    with torch.no_grad():\n",
        "        for X, y in dataloader:\n",
        "            X, y = X.to(device), y.to(device)\n",
        "            pred = model(X)\n",
        "            test_loss += loss_fn(pred, y).item()\n",
        "            correct += (pred.argmax(1) == y).type(torch.float).sum().item()\n",
        "    test_loss /= num_batches\n",
        "    correct /= size\n",
        "    print(f\"Test Error: \\n Accuracy: {(100*correct):>0.1f}%, Avg loss: {test_loss:>8f} \\n\")"
      ]
    },
    {
      "cell_type": "markdown",
      "metadata": {
        "id": "WRwmx7PoYwo0"
      },
      "source": [
        "The training process is conducted over several iterations (*epochs*).\n",
        "During each epoch, the model learns parameters to make better\n",
        "predictions. We print the model\\'s accuracy and loss at each epoch;\n",
        "we\\'d like to see the accuracy increase and the loss decrease with every\n",
        "epoch.\n"
      ]
    },
    {
      "cell_type": "code",
      "execution_count": 12,
      "metadata": {
        "colab": {
          "base_uri": "https://localhost:8080/"
        },
        "id": "iGJXJ-58Ywo0",
        "outputId": "a43b81a1-bd5f-4183-b179-035f4243be5f"
      },
      "outputs": [
        {
          "output_type": "stream",
          "name": "stdout",
          "text": [
            "Epoch 1\n",
            "-------------------------------\n",
            "loss: 2.314353  [   64/60000]\n",
            "loss: 2.294001  [ 6464/60000]\n",
            "loss: 2.276011  [12864/60000]\n",
            "loss: 2.271896  [19264/60000]\n",
            "loss: 2.256160  [25664/60000]\n",
            "loss: 2.228855  [32064/60000]\n",
            "loss: 2.243168  [38464/60000]\n",
            "loss: 2.211906  [44864/60000]\n",
            "loss: 2.210323  [51264/60000]\n",
            "loss: 2.177942  [57664/60000]\n",
            "Test Error: \n",
            " Accuracy: 30.1%, Avg loss: 2.168620 \n",
            "\n",
            "Epoch 2\n",
            "-------------------------------\n",
            "loss: 2.184180  [   64/60000]\n",
            "loss: 2.171820  [ 6464/60000]\n",
            "loss: 2.114330  [12864/60000]\n",
            "loss: 2.136613  [19264/60000]\n",
            "loss: 2.089036  [25664/60000]\n",
            "loss: 2.026063  [32064/60000]\n",
            "loss: 2.063702  [38464/60000]\n",
            "loss: 1.985425  [44864/60000]\n",
            "loss: 1.997059  [51264/60000]\n",
            "loss: 1.926627  [57664/60000]\n",
            "Test Error: \n",
            " Accuracy: 51.6%, Avg loss: 1.916705 \n",
            "\n",
            "Epoch 3\n",
            "-------------------------------\n",
            "loss: 1.953000  [   64/60000]\n",
            "loss: 1.922420  [ 6464/60000]\n",
            "loss: 1.802266  [12864/60000]\n",
            "loss: 1.852349  [19264/60000]\n",
            "loss: 1.737266  [25664/60000]\n",
            "loss: 1.685840  [32064/60000]\n",
            "loss: 1.712969  [38464/60000]\n",
            "loss: 1.607979  [44864/60000]\n",
            "loss: 1.642302  [51264/60000]\n",
            "loss: 1.536652  [57664/60000]\n",
            "Test Error: \n",
            " Accuracy: 59.7%, Avg loss: 1.542978 \n",
            "\n",
            "Epoch 4\n",
            "-------------------------------\n",
            "loss: 1.610455  [   64/60000]\n",
            "loss: 1.571286  [ 6464/60000]\n",
            "loss: 1.415171  [12864/60000]\n",
            "loss: 1.500322  [19264/60000]\n",
            "loss: 1.370298  [25664/60000]\n",
            "loss: 1.365842  [32064/60000]\n",
            "loss: 1.377917  [38464/60000]\n",
            "loss: 1.299582  [44864/60000]\n",
            "loss: 1.341448  [51264/60000]\n",
            "loss: 1.240247  [57664/60000]\n",
            "Test Error: \n",
            " Accuracy: 63.1%, Avg loss: 1.263146 \n",
            "\n",
            "Epoch 5\n",
            "-------------------------------\n",
            "loss: 1.339146  [   64/60000]\n",
            "loss: 1.318203  [ 6464/60000]\n",
            "loss: 1.149162  [12864/60000]\n",
            "loss: 1.265693  [19264/60000]\n",
            "loss: 1.133589  [25664/60000]\n",
            "loss: 1.159869  [32064/60000]\n",
            "loss: 1.174308  [38464/60000]\n",
            "loss: 1.112644  [44864/60000]\n",
            "loss: 1.156710  [51264/60000]\n",
            "loss: 1.072442  [57664/60000]\n",
            "Test Error: \n",
            " Accuracy: 64.7%, Avg loss: 1.093390 \n",
            "\n",
            "Epoch 6\n",
            "-------------------------------\n",
            "loss: 1.161896  [   64/60000]\n",
            "loss: 1.162056  [ 6464/60000]\n",
            "loss: 0.978742  [12864/60000]\n",
            "loss: 1.122723  [19264/60000]\n",
            "loss: 0.989762  [25664/60000]\n",
            "loss: 1.024667  [32064/60000]\n",
            "loss: 1.052241  [38464/60000]\n",
            "loss: 0.996591  [44864/60000]\n",
            "loss: 1.038534  [51264/60000]\n",
            "loss: 0.970500  [57664/60000]\n",
            "Test Error: \n",
            " Accuracy: 65.8%, Avg loss: 0.985816 \n",
            "\n",
            "Epoch 7\n",
            "-------------------------------\n",
            "loss: 1.040756  [   64/60000]\n",
            "loss: 1.062098  [ 6464/60000]\n",
            "loss: 0.863535  [12864/60000]\n",
            "loss: 1.029449  [19264/60000]\n",
            "loss: 0.899220  [25664/60000]\n",
            "loss: 0.929680  [32064/60000]\n",
            "loss: 0.973757  [38464/60000]\n",
            "loss: 0.921269  [44864/60000]\n",
            "loss: 0.957252  [51264/60000]\n",
            "loss: 0.902912  [57664/60000]\n",
            "Test Error: \n",
            " Accuracy: 67.1%, Avg loss: 0.912764 \n",
            "\n",
            "Done!\n"
          ]
        }
      ],
      "source": [
        "epochs = 7\n",
        "for t in range(epochs):\n",
        "    print(f\"Epoch {t+1}\\n-------------------------------\")\n",
        "    train(train_dataloader, model, loss_fn, optimizer)\n",
        "    test(test_dataloader, model, loss_fn)\n",
        "print(\"Done!\")"
      ]
    },
    {
      "cell_type": "markdown",
      "metadata": {
        "id": "hkZusVonYwo0"
      },
      "source": [
        "Read more about [Training your model](optimization_tutorial.html).\n"
      ]
    },
    {
      "cell_type": "markdown",
      "metadata": {
        "id": "_Nj3qhsfYwo0"
      },
      "source": [
        "------------------------------------------------------------------------\n"
      ]
    },
    {
      "cell_type": "markdown",
      "metadata": {
        "id": "T66jY3O3Ywo0"
      },
      "source": [
        "Saving Models\n",
        "=============\n",
        "\n",
        "A common way to save a model is to serialize the internal state\n",
        "dictionary (containing the model parameters).\n"
      ]
    },
    {
      "cell_type": "code",
      "execution_count": 13,
      "metadata": {
        "colab": {
          "base_uri": "https://localhost:8080/"
        },
        "id": "k7P6w53jYwo0",
        "outputId": "d8da4636-4dd0-41d9-e5cc-69e20b791979"
      },
      "outputs": [
        {
          "output_type": "stream",
          "name": "stdout",
          "text": [
            "Saved PyTorch Model State to model.pth\n"
          ]
        }
      ],
      "source": [
        "torch.save(model.state_dict(), \"model.pth\")\n",
        "print(\"Saved PyTorch Model State to model.pth\")"
      ]
    },
    {
      "cell_type": "markdown",
      "metadata": {
        "id": "vezKV4G8Ywo0"
      },
      "source": [
        "Loading Models\n",
        "==============\n",
        "\n",
        "The process for loading a model includes re-creating the model structure\n",
        "and loading the state dictionary into it.\n"
      ]
    },
    {
      "cell_type": "code",
      "execution_count": 14,
      "metadata": {
        "id": "ck3-bX4dYwo0",
        "colab": {
          "base_uri": "https://localhost:8080/"
        },
        "outputId": "192c8e1d-4ce1-42d4-f518-04c9cb58d15e"
      },
      "outputs": [
        {
          "output_type": "execute_result",
          "data": {
            "text/plain": [
              "<All keys matched successfully>"
            ]
          },
          "metadata": {},
          "execution_count": 14
        }
      ],
      "source": [
        "model = NeuralNetwork().to(device)\n",
        "model.load_state_dict(torch.load(\"model.pth\", weights_only=True))"
      ]
    },
    {
      "cell_type": "markdown",
      "metadata": {
        "id": "xfHOMpzfYwo0"
      },
      "source": [
        "This model can now be used to make predictions.\n"
      ]
    },
    {
      "cell_type": "code",
      "execution_count": 15,
      "metadata": {
        "id": "988PkhANYwo0",
        "colab": {
          "base_uri": "https://localhost:8080/"
        },
        "outputId": "887d88be-8af7-4db4-8387-e2b51a0e5e71"
      },
      "outputs": [
        {
          "output_type": "stream",
          "name": "stdout",
          "text": [
            "Predicted: \"Ankle boot\", Actual: \"Ankle boot\"\n"
          ]
        }
      ],
      "source": [
        "classes = [\n",
        "    \"T-shirt/top\",\n",
        "    \"Trouser\",\n",
        "    \"Pullover\",\n",
        "    \"Dress\",\n",
        "    \"Coat\",\n",
        "    \"Sandal\",\n",
        "    \"Shirt\",\n",
        "    \"Sneaker\",\n",
        "    \"Bag\",\n",
        "    \"Ankle boot\",\n",
        "]\n",
        "\n",
        "model.eval()\n",
        "x, y = test_data[0][0], test_data[0][1]\n",
        "with torch.no_grad():\n",
        "    x = x.to(device)\n",
        "    pred = model(x)\n",
        "    predicted, actual = classes[pred[0].argmax(0)], classes[y]\n",
        "    print(f'Predicted: \"{predicted}\", Actual: \"{actual}\"')"
      ]
    },
    {
      "cell_type": "markdown",
      "metadata": {
        "id": "jibYoy5TYwo0"
      },
      "source": [
        "Read more about [Saving & Loading your\n",
        "model](saveloadrun_tutorial.html).\n"
      ]
    }
  ],
  "metadata": {
    "kernelspec": {
      "display_name": "Python 3",
      "language": "python",
      "name": "python3"
    },
    "language_info": {
      "codemirror_mode": {
        "name": "ipython",
        "version": 3
      },
      "file_extension": ".py",
      "mimetype": "text/x-python",
      "name": "python",
      "nbconvert_exporter": "python",
      "pygments_lexer": "ipython3",
      "version": "3.10.12"
    },
    "colab": {
      "provenance": [],
      "include_colab_link": true
    }
  },
  "nbformat": 4,
  "nbformat_minor": 0
}